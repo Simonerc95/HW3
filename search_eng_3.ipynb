{
 "cells": [
  {
   "cell_type": "code",
   "execution_count": 2,
   "metadata": {},
   "outputs": [],
   "source": [
    "from Functions import *"
   ]
  },
  {
   "cell_type": "code",
   "execution_count": 2,
   "metadata": {},
   "outputs": [
    {
     "name": "stdout",
     "output_type": "stream",
     "text": [
      "insert your query : lion king 2019\n",
      "Do you want to specify the release year ? [Y/N] : y\n",
      "Please, specify the release date : 2019\n",
      "Do you want to specify the length of the movie? [Y/N] : n\n",
      "Is number of stars an important factor for you? [Y/N] : y\n",
      "Please, specify if you're looking for a big or small cast [B/S]: S\n",
      "Is movie budget an important factor for you? [Y/N] : y\n",
      "Please, specify the budget of the movie you're looking for : 20 milions\n"
     ]
    },
    {
     "data": {
      "text/plain": [
       "(['lion', 'king', '2019'],\n",
       " {'year': '2019', 'Runtime': 'NA', 'starring': 'S', 'Budget': '20 milions'})"
      ]
     },
     "execution_count": 2,
     "metadata": {},
     "output_type": "execute_result"
    }
   ],
   "source": [
    "get_query_SE3()"
   ]
  },
  {
   "cell_type": "markdown",
   "metadata": {},
   "source": [
    "Now we have to run the first search engine with our query and get all the documents related to that search engine"
   ]
  },
  {
   "cell_type": "code",
   "execution_count": 7,
   "metadata": {},
   "outputs": [
    {
     "name": "stdout",
     "output_type": "stream",
     "text": [
      "insert your query : orcs swords\n",
      "Do you want to specify the release year ? [Y/N] : n\n",
      "Do you want to specify the length of the movie? [Y/N] : n\n",
      "Is number of stars an important factor for you? [Y/N] : n\n",
      "Is movie budget an important factor for you? [Y/N] : 10 milions\n"
     ]
    },
    {
     "data": {
      "text/html": [
       "<style  type=\"text/css\" >\n",
       "</style><table id=\"T_e7b30a36_0937_11ea_adfc_f430b9839aad\" ><thead>    <tr>        <th class=\"blank level0\" ></th>        <th class=\"col_heading level0 col0\" >Title</th>        <th class=\"col_heading level0 col1\" >Intro</th>        <th class=\"col_heading level0 col2\" >URL</th>        <th class=\"col_heading level0 col3\" >Score</th>    </tr></thead><tbody>\n",
       "                <tr>\n",
       "                        <th id=\"T_e7b30a36_0937_11ea_adfc_f430b9839aadlevel0_row0\" class=\"row_heading level0 row0\" >14227</th>\n",
       "                        <td id=\"T_e7b30a36_0937_11ea_adfc_f430b9839aadrow0_col0\" class=\"data row0 col0\" >The Lord of the Rings: The Return of the King</td>\n",
       "                        <td id=\"T_e7b30a36_0937_11ea_adfc_f430b9839aadrow0_col1\" class=\"data row0 col1\" >The Lord of the Rings: The Return of the King is a 2003 epic fantasy adventure film directed by Peter Jackson, based on the third volume of J. R. R. Tolkien's The Lord of the Rings. The film is the third instalment in The Lord of the Rings trilogy and was produced by Barrie M. Osborne, Jackson and Fran Walsh, and written by Walsh, Philippa Boyens and Jackson. The film features an ensemble cast including Elijah Wood, Ian McKellen, Liv Tyler, Viggo Mortensen, Sean Astin, Cate Blanchett, John Rhys-Davies, Bernard Hill, Billy Boyd, Dominic Monaghan, Orlando Bloom, Hugo Weaving, Miranda Otto, David Wenham, Karl Urban, John Noble, Andy Serkis, Ian Holm, and Sean Bean. It was preceded by The Fellowship of the Ring (2001) and The Two Towers (2002).Continuing the plot of The Two Towers, Frodo, Sam and Gollum are making their final way toward Mount Doom in Mordor in order to destroy the One Ring, unbeknownst to Gollum's true intentions, while Gandalf, Aragorn, Legolas, Gimli and the rest are joining forces together against Sauron and his legions in Minas Tirith.The Return of the King was financed and distributed by American studio New Line Cinema, but filmed and edited entirely in Jackson's native New Zealand, concurrently with the other two parts of the trilogy. Released on 17 December 2003, the film was highly acclaimed by critics and fans alike, who considered it to be a landmark in filmmaking and an achievement in the fantasy film genre. It has grossed over \\$1.120 billion worldwide, making it the highest-grossing film of 2003 and the 2nd highest-grossing film of all time at the time of its release.[9]The Return of the King is widely regarded as one of the greatest and most influential fantasy films ever made. The film won many awards, including winning all 11 Oscars for which it was nominated at the 76th Academy Awards, therefore tying for the record for the most Academy Awards won by a single film and the holding the record for the highest clean sweep at the Oscars.</td>\n",
       "                        <td id=\"T_e7b30a36_0937_11ea_adfc_f430b9839aadrow0_col2\" class=\"data row0 col2\" ><a target=\"_blank\" href=\"https://en.wikipedia.org/wiki/The_Lord_of_the_Rings:_The_Return_of_the_King\">https://en.wikipedia.org/wiki/The_Lord_of_the_Rings:_The_Return_of_the_King</a></td>\n",
       "                        <td id=\"T_e7b30a36_0937_11ea_adfc_f430b9839aadrow0_col3\" class=\"data row0 col3\" >0</td>\n",
       "            </tr>\n",
       "            <tr>\n",
       "                        <th id=\"T_e7b30a36_0937_11ea_adfc_f430b9839aadlevel0_row1\" class=\"row_heading level0 row1\" >13821</th>\n",
       "                        <td id=\"T_e7b30a36_0937_11ea_adfc_f430b9839aadrow1_col0\" class=\"data row1 col0\" >The Lord of the Rings: The Fellowship of the Ring</td>\n",
       "                        <td id=\"T_e7b30a36_0937_11ea_adfc_f430b9839aadrow1_col1\" class=\"data row1 col1\" >The Lord of the Rings: The Fellowship of the Ring is a 2001 epic fantasy adventure film directed by Peter Jackson, based on the first volume of J. R. R. Tolkien's The Lord of the Rings. The film is the first instalment in The Lord of the Rings trilogy and was produced by Barrie M. Osborne, Jackson, Fran Walsh and Tim Sanders, and written by Walsh, Philippa Boyens and Jackson. The film features an ensemble cast including Elijah Wood, Ian McKellen, Liv Tyler, Viggo Mortensen, Sean Astin, Cate Blanchett, John Rhys-Davies, Billy Boyd, Dominic Monaghan, Orlando Bloom, Christopher Lee, Hugo Weaving, Sean Bean, Ian Holm, and Andy Serkis. It was followed by The Two Towers (2002) and The Return of the King (2003).Set in Middle-earth, the story tells of the Dark Lord Sauron, who is seeking the One Ring. The Ring has found its way to the young hobbit Frodo Baggins. The fate of Middle-earth hangs in the balance as Frodo and eight companions who form the Fellowship of the Ring begin their journey to Mount Doom in the land of Mordor, the only place where the Ring can be destroyed.The Fellowship of the Ring was financed and distributed by American studio New Line Cinema, but filmed and edited entirely in Jackson's native New Zealand, concurrently with the other two parts of the trilogy. Released on 19 December 2001, the film was highly acclaimed by critics and fans alike, who considered it to be a landmark in filmmaking and an achievement in the fantasy film genre. It has grossed \\$871.5 million worldwide, making it the 2nd highest-grossing film of 2001 and the 5th highest-grossing film of all time at the time of its release.[6]The Fellowship of the Ring is widely regarded as one of the greatest and most influential fantasy films ever made. The film won many awards, including being nominated for 13 Oscars at the 74th Academy Awards ceremony, of which it won four, for Best Cinematography, Best Makeup, Best Original Score and Best Visual Effects.</td>\n",
       "                        <td id=\"T_e7b30a36_0937_11ea_adfc_f430b9839aadrow1_col2\" class=\"data row1 col2\" ><a target=\"_blank\" href=\"https://en.wikipedia.org/wiki/The_Lord_of_the_Rings:_The_Fellowship_of_the_Ring\">https://en.wikipedia.org/wiki/The_Lord_of_the_Rings:_The_Fellowship_of_the_Ring</a></td>\n",
       "                        <td id=\"T_e7b30a36_0937_11ea_adfc_f430b9839aadrow1_col3\" class=\"data row1 col3\" >0</td>\n",
       "            </tr>\n",
       "    </tbody></table>"
      ],
      "text/plain": [
       "<pandas.io.formats.style.Styler at 0x29009fee4e0>"
      ]
     },
     "execution_count": 7,
     "metadata": {},
     "output_type": "execute_result"
    }
   ],
   "source": [
    "search_engine3(*get_query_SE3())\n"
   ]
  },
  {
   "cell_type": "code",
   "execution_count": 23,
   "metadata": {},
   "outputs": [
    {
     "data": {
      "text/plain": [
       "20000000"
      ]
     },
     "execution_count": 23,
     "metadata": {},
     "output_type": "execute_result"
    }
   ],
   "source": [
    "\n",
    "if re.search('\\d', q['Budget']):\n",
    "    if re.search(r'mil', q['Budget']):\n",
    "            budget = int(float(re.search(r'\\d+[\\.|\\,]*\\d*', q['Budget']).group(0).replace(',', '.'))*10**6)\n",
    "budget"
   ]
  },
  {
   "cell_type": "code",
   "execution_count": 4,
   "metadata": {},
   "outputs": [],
   "source": [
    "(query, q) = (['lion', 'king'],\n",
    " {'year': '1995', 'Runtime': 'NA', 'starring': 'NA', 'Budget': '20 milions'})"
   ]
  }
 ],
 "metadata": {
  "kernelspec": {
   "display_name": "Python 3",
   "language": "python",
   "name": "python3"
  }
 },
 "nbformat": 4,
 "nbformat_minor": 2
}
