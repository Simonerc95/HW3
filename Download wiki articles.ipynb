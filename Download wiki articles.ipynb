{
 "cells": [
  {
   "cell_type": "code",
   "execution_count": 250,
   "metadata": {},
   "outputs": [],
   "source": [
    "import os\n",
    "import csv\n",
    "from bs4 import BeautifulSoup\n",
    "import pandas as pd\n",
    "import requests as rq\n",
    "import time\n",
    "import random\n",
    "import unicodedata\n",
    "import nltk\n",
    "from nltk.corpus import stopwords \n",
    "from nltk.tokenize import word_tokenize\n",
    "from nltk.stem import *\n",
    "import string\n",
    "import re\n",
    "from math import *\n",
    "import json\n",
    "from collections import defaultdict\n",
    "from scipy import spatial\n",
    "import heapq"
   ]
  },
  {
   "cell_type": "code",
   "execution_count": 4,
   "metadata": {},
   "outputs": [],
   "source": [
    "path = os.getcwd()\n",
    "movies = pd.DataFrame(pd.read_html(path + \"\\\\movies1.html\")[0])\n",
    "movies.drop('Id', inplace=True, axis = 1)"
   ]
  },
  {
   "cell_type": "code",
   "execution_count": 111,
   "metadata": {},
   "outputs": [],
   "source": [
    "\n",
    "# for i in range(len(movies)):\n",
    "#     try:\n",
    "#         response = rq.get(movies.URL[i])\n",
    "#     except rq.exceptions.RequestException as e:\n",
    "#         print(e)\n",
    "#         time.sleep(20*60 + 30)\n",
    "#         response = rq.get(movies.URL[i])\n",
    "#     soup = BeautifulSoup(response.text, 'html.parser')\n",
    "#     f = open('article_'+str(i)+'.html','w')\n",
    "#     f.write(str(soup))\n",
    "#     f.close()\n",
    "#     time.sleep(random.choice(range(1,6)))"
   ]
  },
  {
   "cell_type": "code",
   "execution_count": 58,
   "metadata": {},
   "outputs": [
    {
     "data": {
      "text/plain": [
       "'C:\\\\Users\\\\simon\\\\Desktop\\\\ADM\\\\Homework 3\\\\Articles'"
      ]
     },
     "execution_count": 58,
     "metadata": {},
     "output_type": "execute_result"
    }
   ],
   "source": [
    "path1 = path + '\\\\Articles'\n",
    "path1"
   ]
  },
  {
   "cell_type": "code",
   "execution_count": 415,
   "metadata": {},
   "outputs": [],
   "source": [
    "# for i in range(30000):\n",
    "#     article = open(path1+'\\\\article_'+str(i)+'.html', 'r')\n",
    "#     soup = BeautifulSoup(article, 'html.parser')\n",
    "#     d = {}\n",
    "#     try:\n",
    "#         for x in soup.find('table', class_=\"infobox vevent\").find('th').find_all_next('th'):\n",
    "#             d[x.text] = unicodedata.normalize('NFKD',x.next_sibling.get_text(separator = '<br/>').replace('<br/>', ',').strip())\n",
    "#     except:\n",
    "#         pass\n",
    "#     title = str(soup.select('h1')[0].text)\n",
    "\n",
    "#     start = soup.find('p')\n",
    "#     intro = start.text.strip()\n",
    "#     while len(intro) == 0:\n",
    "#         start = start.find_next('p')\n",
    "#         intro = start.text.strip()\n",
    "#     for elem in start.next_siblings:\n",
    "#         if elem.name != 'p':\n",
    "#             break\n",
    "#         intro += elem.text.strip()   \n",
    "\n",
    "#     try:\n",
    "#         start = soup.find('h2').find_next('p')\n",
    "#         plot = start.text.strip()\n",
    "#         for elem in start.next_siblings:\n",
    "#             if elem.name != 'p':\n",
    "#                 break\n",
    "#             plot += elem.text.strip()\n",
    "\n",
    "#     except:\n",
    "#         plot = \"NA\"\n",
    "\n",
    "\n",
    "\n",
    "\n",
    "#     try :\n",
    "#             director = d['Directed by']\n",
    "#     except: \n",
    "#             director = \"NA\"\n",
    "\n",
    "#     try :\n",
    "#             producer = d['Produced by']\n",
    "#     except: \n",
    "#             producer = \"NA\"\n",
    "\n",
    "#     try :\n",
    "\n",
    "#             writer = d[\"Written by\"]\n",
    "#     except:\n",
    "#             writer = \"NA\"\n",
    "\n",
    "\n",
    "#     try :\n",
    "#             starring = d[\"Starring\"].strip()\n",
    "\n",
    "#     except:\n",
    "#             starring = \"NA\"\n",
    "\n",
    "#     try :\n",
    "\n",
    "#             music = d[\"Music by\"]\n",
    "#     except :\n",
    "#             music = \"NA\"\n",
    "\n",
    "#     try :\n",
    "#             release_date = d[\"Release date\"]\n",
    "\n",
    "#     except :\n",
    "\n",
    "#             release_date = \"NA\"\n",
    "\n",
    "#     try :\n",
    "#             run_time = d[\"Running time\"]\n",
    "\n",
    "#     except :\n",
    "#             run_time = \"NA\"\n",
    "\n",
    "#     try :\n",
    "#             country = d[\"Country\"]\n",
    "\n",
    "#     except :\n",
    "\n",
    "#             country = \"NA\"\n",
    "\n",
    "#     try :\n",
    "#             language = d[\"Language\"]\n",
    "\n",
    "#     except:\n",
    "#             language = \"NA\"\n",
    "\n",
    "\n",
    "#     try :\n",
    "#             budget = d[\"Budget\"]\n",
    "\n",
    "#     except :\n",
    "#             budget = \"NA\"\n",
    "\n",
    "\n",
    "#     with open(path+\"\\\\TSV\\\\article_\" + str(i) + \".tsv\", \"w\" ,encoding=\"utf-8\") as out_file:\n",
    "#             tsv_writer = csv.writer(out_file, delimiter='\\t')\n",
    "#             tsv_writer.writerow(['title', 'intro', 'plot', 'director', 'producer', 'writer' , 'starring', 'music', 'release_date','run_time', 'country' , 'language' , 'budget'])\n",
    "#             tsv_writer.writerow([title, intro, plot, director, producer, writer , starring, music, release_date,run_time, country , language , budget])\n"
   ]
  },
  {
   "cell_type": "code",
   "execution_count": 59,
   "metadata": {},
   "outputs": [
    {
     "data": {
      "text/html": [
       "<div>\n",
       "<style scoped>\n",
       "    .dataframe tbody tr th:only-of-type {\n",
       "        vertical-align: middle;\n",
       "    }\n",
       "\n",
       "    .dataframe tbody tr th {\n",
       "        vertical-align: top;\n",
       "    }\n",
       "\n",
       "    .dataframe thead th {\n",
       "        text-align: right;\n",
       "    }\n",
       "</style>\n",
       "<table border=\"1\" class=\"dataframe\">\n",
       "  <thead>\n",
       "    <tr style=\"text-align: right;\">\n",
       "      <th></th>\n",
       "      <th>title</th>\n",
       "      <th>intro</th>\n",
       "      <th>plot</th>\n",
       "    </tr>\n",
       "  </thead>\n",
       "  <tbody>\n",
       "    <tr>\n",
       "      <th>0</th>\n",
       "      <td>Jack and the Beanstalk (1902 film)</td>\n",
       "      <td>Jack and the Beanstalk is a 1902 American shor...</td>\n",
       "      <td>In this earliest known adaptation of the class...</td>\n",
       "    </tr>\n",
       "  </tbody>\n",
       "</table>\n",
       "</div>"
      ],
      "text/plain": [
       "                                title  \\\n",
       "0  Jack and the Beanstalk (1902 film)   \n",
       "\n",
       "                                               intro  \\\n",
       "0  Jack and the Beanstalk is a 1902 American shor...   \n",
       "\n",
       "                                                plot  \n",
       "0  In this earliest known adaptation of the class...  "
      ]
     },
     "execution_count": 59,
     "metadata": {},
     "output_type": "execute_result"
    }
   ],
   "source": [
    "df  = pd.DataFrame(pd.read_csv(path+\"\\\\TSV\\\\article_\" + str(i) + \".tsv\", delimiter = '\\t').iloc[:,0:3])\n",
    "df"
   ]
  },
  {
   "cell_type": "code",
   "execution_count": 60,
   "metadata": {},
   "outputs": [],
   "source": [
    "path2 = path+'\\\\TSV\\\\'"
   ]
  },
  {
   "cell_type": "code",
   "execution_count": 61,
   "metadata": {},
   "outputs": [],
   "source": [
    "stop_words = set(stopwords.words('english')) \n",
    "stemmer = PorterStemmer()"
   ]
  },
  {
   "cell_type": "code",
   "execution_count": 62,
   "metadata": {},
   "outputs": [],
   "source": [
    "def clean(text):\n",
    "    text = text.lower()\n",
    "    words = word_tokenize(text) #devide the text into substrings\n",
    "    filtered1 = [w for w in words if not w in stop_words] #remove stop words\n",
    "    filtered2 = list(filter(lambda word: word not in string.punctuation, filtered1))\n",
    "    filtered3 = []\n",
    "    for word in filtered2:\n",
    "        try:\n",
    "            filtered3 += re.findall(r'\\w+', word) \n",
    "        except:\n",
    "            pass\n",
    "    \n",
    "    filtered3 = [stemmer.stem(w) for w in filtered3] #stemming\n",
    "    filtered4 = [c.replace(\"''\", \"\").replace(\"``\", \"\") for c in filtered3 ] #removing useless '' and  `` characters\n",
    "    filtered4 = [f for f in filtered4 if len(f)>1]\n",
    "    return filtered4"
   ]
  },
  {
   "cell_type": "code",
   "execution_count": 588,
   "metadata": {},
   "outputs": [],
   "source": [
    "allwords = list()\n",
    "docwords = dict()\n",
    "tsvs = dict()\n",
    "for i in range(0,30000):\n",
    "    with open(path2+\"article_\" + str(i) + \".tsv\", encoding = \"utf-8\") as fd:\n",
    "        rd = csv.reader(fd, delimiter=\"\\t\", quotechar='\"')\n",
    "        for row in rd:\n",
    "            if row :\n",
    "                tsv = row\n",
    "    text = ' '.join([tsv[1],tsv[2]])\n",
    "    tsvs[i] = tsv\n",
    "    cleared = clear(text)\n",
    "        \n",
    "    docwords['document_'+str(i)] = cleared\n",
    "    allwords += cleared"
   ]
  },
  {
   "cell_type": "code",
   "execution_count": 279,
   "metadata": {},
   "outputs": [],
   "source": [
    "tsvs = dict()\n",
    "for i in range(0,30000):\n",
    "    with open(path2+\"article_\" + str(i) + \".tsv\", encoding = \"utf-8\") as fd:\n",
    "        rd = csv.reader(fd, delimiter=\"\\t\", quotechar='\"')\n",
    "        for row in rd:\n",
    "            if row :\n",
    "                tsv = row\n",
    "    tsvs[i] = tsv"
   ]
  },
  {
   "cell_type": "code",
   "execution_count": 285,
   "metadata": {},
   "outputs": [],
   "source": [
    "savetojson(path+\"\\\\tsvs.json\", tsvs)"
   ]
  },
  {
   "cell_type": "code",
   "execution_count": 284,
   "metadata": {},
   "outputs": [
    {
     "data": {
      "text/plain": [
       "'C:\\\\Users\\\\simon\\\\Desktop\\\\ADM\\\\Homework 3'"
      ]
     },
     "execution_count": 284,
     "metadata": {},
     "output_type": "execute_result"
    }
   ],
   "source": [
    "path"
   ]
  },
  {
   "cell_type": "code",
   "execution_count": 581,
   "metadata": {},
   "outputs": [],
   "source": [
    "vocabulary = {}   \n",
    "allwords = list(set(allwords))\n",
    "for i in range(len(allwords)):\n",
    "    vocabulary[str(i)] = allwords[i]"
   ]
  },
  {
   "cell_type": "code",
   "execution_count": 613,
   "metadata": {},
   "outputs": [],
   "source": [
    "reverse_voc = {v:k for k,v in vocabulary.items()}"
   ]
  },
  {
   "cell_type": "code",
   "execution_count": null,
   "metadata": {},
   "outputs": [],
   "source": [
    "from collections import defaultdict\n",
    "\n",
    "inverted = defaultdict(list)\n",
    "for doc in docwords.keys():\n",
    "    for word in docwords[doc]:\n",
    "        if not doc in inverted[reverse_voc[word]]:\n",
    "            inverted[reverse_voc[word]].append(doc)"
   ]
  },
  {
   "cell_type": "code",
   "execution_count": 161,
   "metadata": {},
   "outputs": [],
   "source": [
    "def savetojson(pathfile, obj):\n",
    "    with open(pathfile, \"w\" ,encoding=\"utf-8\") as out_file:\n",
    "        out_file.write(json.dumps(obj, ensure_ascii = False))\n",
    "        out_file.close()"
   ]
  },
  {
   "cell_type": "code",
   "execution_count": null,
   "metadata": {},
   "outputs": [],
   "source": [
    "savetojson(path + \"\\\\WORDS\\\\DocWords.json\", docwords)\n",
    "savetojson(path + \"\\\\WORDS\\\\vocabulary.json\", vocabulary)\n",
    "savetojson(path + \"\\\\WORDS\\\\Inverted_index.json\", inverted)"
   ]
  },
  {
   "cell_type": "markdown",
   "metadata": {},
   "source": [
    "# Search Engine"
   ]
  },
  {
   "cell_type": "code",
   "execution_count": 63,
   "metadata": {},
   "outputs": [
    {
     "name": "stdout",
     "output_type": "stream",
     "text": [
      "Insert your query: disney 2019\n"
     ]
    }
   ],
   "source": [
    "query = input(\"Insert your query: \")"
   ]
  },
  {
   "cell_type": "code",
   "execution_count": 64,
   "metadata": {},
   "outputs": [
    {
     "data": {
      "text/plain": [
       "['disney', '2019']"
      ]
     },
     "execution_count": 64,
     "metadata": {},
     "output_type": "execute_result"
    }
   ],
   "source": [
    "query = clean(query)\n",
    "query"
   ]
  },
  {
   "cell_type": "code",
   "execution_count": 67,
   "metadata": {},
   "outputs": [],
   "source": [
    "with open(path + \"\\\\WORDS\\\\vocabulary.json\", encoding = \"utf-8\") as fd:\n",
    "        vocabulary = json.load(fd)\n",
    "with open(path + \"\\\\WORDS\\\\Inverted_index.json\", encoding = \"utf-8\") as fd:\n",
    "        inverted_index = json.load(fd)\n",
    "reverse_voc = reverse_voc = {v:k for k,v in vocabulary.items()}"
   ]
  },
  {
   "cell_type": "code",
   "execution_count": 68,
   "metadata": {},
   "outputs": [],
   "source": [
    "#now we define a function to get the query and return term_id of each vocab in query if they exist in vocabulary dataset\n",
    "def get_query_index(query) :\n",
    "    indexes = []\n",
    "    for i in range(len(query)) :\n",
    "        if query[i] in vocabulary.values() : #if the vocab in query exist in vocabulary dataset\n",
    "            indexes.append(reverse_voc[query[i]]) #add term_id of that vocab to query\n",
    "\n",
    "        else : #if it does not exist in vocabulary we replace it with 0\n",
    "            indexes.append('NA')\n",
    "    return(indexes)\n"
   ]
  },
  {
   "cell_type": "markdown",
   "metadata": {},
   "source": [
    "Now we write a function to execute the query. First we should build a list that contains set of inverted_indexes of query elements and then since we want documents that contain all words of query we should find the intesection of these sets"
   ]
  },
  {
   "cell_type": "code",
   "execution_count": 69,
   "metadata": {},
   "outputs": [],
   "source": [
    "def execute_query(query):\n",
    "    query = get_query_index(query)\n",
    "    docs = []\n",
    "    for i in query :\n",
    "        if (i == 'NA') : \n",
    "#if there is a vocab in query that does not exist in vocabulary dataset, there isn't a match and we should terminate the function\n",
    "            return(\"No match for your query\")\n",
    "        else :\n",
    "            docs.append(set(inverted_index[i]))\n",
    "        \n",
    "    docs = set.intersection(*docs)\n",
    "    return(docs)"
   ]
  },
  {
   "cell_type": "code",
   "execution_count": 77,
   "metadata": {},
   "outputs": [],
   "source": [
    "#Creating URL Database\n",
    "Movies = dict()\n",
    "c = 0\n",
    "for i in range(1,4):\n",
    "    movies = pd.DataFrame(pd.read_html(path + \"\\\\movies\" + str(i) + \".html\")[0])\n",
    "    movies.drop('Id', inplace=True, axis = 1)\n",
    "    Urls = list(movies['URL'])\n",
    "    for i in range(len(Urls)):\n",
    "        Movies[str(10000*c + i)] = Urls[i]\n",
    "    c += 1\n",
    "        "
   ]
  },
  {
   "cell_type": "code",
   "execution_count": 310,
   "metadata": {},
   "outputs": [],
   "source": [
    "savetojson(path+'\\\\AllMovies.json', Movies)"
   ]
  },
  {
   "cell_type": "code",
   "execution_count": 87,
   "metadata": {},
   "outputs": [
    {
     "data": {
      "text/html": [
       "<div>\n",
       "<style scoped>\n",
       "    .dataframe tbody tr th:only-of-type {\n",
       "        vertical-align: middle;\n",
       "    }\n",
       "\n",
       "    .dataframe tbody tr th {\n",
       "        vertical-align: top;\n",
       "    }\n",
       "\n",
       "    .dataframe thead th {\n",
       "        text-align: right;\n",
       "    }\n",
       "</style>\n",
       "<table border=\"1\" class=\"dataframe\">\n",
       "  <thead>\n",
       "    <tr style=\"text-align: right;\">\n",
       "      <th></th>\n",
       "      <th>URL</th>\n",
       "    </tr>\n",
       "  </thead>\n",
       "  <tbody>\n",
       "    <tr>\n",
       "      <th>29995</th>\n",
       "      <td>https://en.wikipedia.org/wiki/Paarai_(film)</td>\n",
       "    </tr>\n",
       "    <tr>\n",
       "      <th>29996</th>\n",
       "      <td>https://en.wikipedia.org/wiki/Jayam_(2003_film)</td>\n",
       "    </tr>\n",
       "    <tr>\n",
       "      <th>29997</th>\n",
       "      <td>https://en.wikipedia.org/wiki/Kaadhal_Kondein</td>\n",
       "    </tr>\n",
       "    <tr>\n",
       "      <th>29998</th>\n",
       "      <td>https://en.wikipedia.org/wiki/Kovilpatti_Veera...</td>\n",
       "    </tr>\n",
       "    <tr>\n",
       "      <th>29999</th>\n",
       "      <td>https://en.wikipedia.org/wiki/Whistle_(2003_film)</td>\n",
       "    </tr>\n",
       "  </tbody>\n",
       "</table>\n",
       "</div>"
      ],
      "text/plain": [
       "                                                     URL\n",
       "29995        https://en.wikipedia.org/wiki/Paarai_(film)\n",
       "29996    https://en.wikipedia.org/wiki/Jayam_(2003_film)\n",
       "29997      https://en.wikipedia.org/wiki/Kaadhal_Kondein\n",
       "29998  https://en.wikipedia.org/wiki/Kovilpatti_Veera...\n",
       "29999  https://en.wikipedia.org/wiki/Whistle_(2003_film)"
      ]
     },
     "execution_count": 87,
     "metadata": {},
     "output_type": "execute_result"
    }
   ],
   "source": [
    "pd.DataFrame.from_dict(Movies, columns=['URL'], orient='index').tail()"
   ]
  },
  {
   "cell_type": "code",
   "execution_count": 147,
   "metadata": {},
   "outputs": [],
   "source": [
    "def Linked_URL(val): #we will use this to make the urls in output clickable\n",
    "        # target _blank to open new window\n",
    "        return '<a target=\"_blank\" href=\"{}\">{}</a>'.format(val, val)\n",
    "    \n",
    "def replacer(val):      #This is used to escape the character $ in the output for Intro,\n",
    "    return val.replace('$', '\\$')      #otherwise it would be interpreted by displayer"
   ]
  },
  {
   "cell_type": "code",
   "execution_count": 200,
   "metadata": {},
   "outputs": [],
   "source": [
    "def get_results(query):\n",
    "    results = []\n",
    "    for file in execute_query(query):\n",
    "        docid = file.split('_')[1]\n",
    "        tsv = []\n",
    "        with open(path2+\"article_\" + docid + \".tsv\", encoding = \"utf-8\") as fd:\n",
    "            rd = csv.reader(fd, delimiter=\"\\t\", quotechar='\"')\n",
    "            for row in rd:\n",
    "                if row :\n",
    "                    tsv.append(row)\n",
    "        data = tsv[1]\n",
    "        results.append([docid,data[0],data[1],Movies[docid]])  #create movies file before\n",
    "        opentsv.close()\n",
    "    result = pd.DataFrame(results, columns = ['Id','Title', 'Intro', 'Wikipedia Url'])\n",
    "    return result"
   ]
  },
  {
   "cell_type": "code",
   "execution_count": 353,
   "metadata": {},
   "outputs": [
    {
     "data": {
      "text/html": [
       "<style  type=\"text/css\" >\n",
       "</style><table id=\"T_0c7ef782_08e9_11ea_bd69_f430b9839aad\" ><thead>    <tr>        <th class=\"blank level0\" ></th>        <th class=\"col_heading level0 col0\" >Id</th>        <th class=\"col_heading level0 col1\" >Title</th>        <th class=\"col_heading level0 col2\" >Intro</th>        <th class=\"col_heading level0 col3\" >Wikipedia Url</th>    </tr></thead><tbody>\n",
       "                <tr>\n",
       "                        <th id=\"T_0c7ef782_08e9_11ea_bd69_f430b9839aadlevel0_row0\" class=\"row_heading level0 row0\" >0</th>\n",
       "                        <td id=\"T_0c7ef782_08e9_11ea_bd69_f430b9839aadrow0_col0\" class=\"data row0 col0\" >12175</td>\n",
       "                        <td id=\"T_0c7ef782_08e9_11ea_bd69_f430b9839aadrow0_col1\" class=\"data row0 col1\" >Little Odessa (film)</td>\n",
       "                        <td id=\"T_0c7ef782_08e9_11ea_bd69_f430b9839aadrow0_col2\" class=\"data row0 col2\" >Little Odessa is a 1995 American crime drama film written and directed by James Gray, in his directorial debut, and starring Tim Roth, Edward Furlong, Moira Kelly, Maximilian Schell and Vanessa Redgrave.\n",
       "The film earned a Silver Lion at the Venice Film Festival and the prestigious Grand Prix of the Belgian Film Critics Association. It also earned admiration from French master Claude Chabrol.[2]</td>\n",
       "                        <td id=\"T_0c7ef782_08e9_11ea_bd69_f430b9839aadrow0_col3\" class=\"data row0 col3\" ><a target=\"_blank\" href=\"https://en.wikipedia.org/wiki/Little_Odessa_(film)\">https://en.wikipedia.org/wiki/Little_Odessa_(film)</a></td>\n",
       "            </tr>\n",
       "            <tr>\n",
       "                        <th id=\"T_0c7ef782_08e9_11ea_bd69_f430b9839aadlevel0_row1\" class=\"row_heading level0 row1\" >1</th>\n",
       "                        <td id=\"T_0c7ef782_08e9_11ea_bd69_f430b9839aadrow1_col0\" class=\"data row1 col0\" >27019</td>\n",
       "                        <td id=\"T_0c7ef782_08e9_11ea_bd69_f430b9839aadrow1_col1\" class=\"data row1 col1\" >Gajakesari</td>\n",
       "                        <td id=\"T_0c7ef782_08e9_11ea_bd69_f430b9839aadrow1_col2\" class=\"data row1 col2\" >Gajakesari is a 2014 Indian Kannada epic historical action film directed by cinematographer Krishna and produced by Jayanna and Bogendra. The film stars Yash in leading role along with Amulya and Anant Nag. The film also prominently features an elephant named Arjuna from Waynad, Kerala.[1] Actor Prakash Raj plays as narrator for the film to introduce Yash's character. Also uncredited writer Sai Prasad did the still photography and concept design for the making of the movie. This film is also dubbed in Hindi as Gajakeasari:The Big Lion.[2]</td>\n",
       "                        <td id=\"T_0c7ef782_08e9_11ea_bd69_f430b9839aadrow1_col3\" class=\"data row1 col3\" ><a target=\"_blank\" href=\"https://en.wikipedia.org/wiki/Gajakesari\">https://en.wikipedia.org/wiki/Gajakesari</a></td>\n",
       "            </tr>\n",
       "            <tr>\n",
       "                        <th id=\"T_0c7ef782_08e9_11ea_bd69_f430b9839aadlevel0_row2\" class=\"row_heading level0 row2\" >2</th>\n",
       "                        <td id=\"T_0c7ef782_08e9_11ea_bd69_f430b9839aadrow2_col0\" class=\"data row2 col0\" >13734</td>\n",
       "                        <td id=\"T_0c7ef782_08e9_11ea_bd69_f430b9839aadrow2_col1\" class=\"data row2 col1\" >Black Knight (film)</td>\n",
       "                        <td id=\"T_0c7ef782_08e9_11ea_bd69_f430b9839aadrow2_col2\" class=\"data row2 col2\" >Black Knight is a 2001 American fantasy adventure comedy film starring Martin Lawrence and directed by Gil Junger. In addition to Lawrence, Black Knight had a supporting cast of Marsha Thomason, Tom Wilkinson, Vincent Regan, and Kevin Conway.In the film, Lawrence plays Jamal, a theme park employee who is transported through time to medieval England. The film was shot at various locations in North Carolina, mainly Wilmington and Carolina Beach.The film was released in November 2001 and went on to gross \\$39,976,235[1] at the worldwide box office, a loss from its \\$50 million budget. Its critical reception was poor.</td>\n",
       "                        <td id=\"T_0c7ef782_08e9_11ea_bd69_f430b9839aadrow2_col3\" class=\"data row2 col3\" ><a target=\"_blank\" href=\"https://en.wikipedia.org/wiki/Black_Knight_(film)\">https://en.wikipedia.org/wiki/Black_Knight_(film)</a></td>\n",
       "            </tr>\n",
       "            <tr>\n",
       "                        <th id=\"T_0c7ef782_08e9_11ea_bd69_f430b9839aadlevel0_row3\" class=\"row_heading level0 row3\" >3</th>\n",
       "                        <td id=\"T_0c7ef782_08e9_11ea_bd69_f430b9839aadrow3_col0\" class=\"data row3 col0\" >20568</td>\n",
       "                        <td id=\"T_0c7ef782_08e9_11ea_bd69_f430b9839aadrow3_col1\" class=\"data row3 col1\" >To Walk with Lions</td>\n",
       "                        <td id=\"T_0c7ef782_08e9_11ea_bd69_f430b9839aadrow3_col2\" class=\"data row3 col2\" >To Walk with Lions is a 1999 film directed by Carl Schultz and starring Richard Harris as George Adamson and John Michie as Tony Fitzjohn. It follows the later years of wild game preserver/naturalist Adamson.After his marriage to Joy Adamson of Born Free fame, Adamson spent the latter part of his life  protecting the lions and other wildlife in the Kora National Reserve, Kenya. He encounters poachers and government corruption blocking his quest for wildlife preservation.</td>\n",
       "                        <td id=\"T_0c7ef782_08e9_11ea_bd69_f430b9839aadrow3_col3\" class=\"data row3 col3\" ><a target=\"_blank\" href=\"https://en.wikipedia.org/wiki/To_Walk_with_Lions\">https://en.wikipedia.org/wiki/To_Walk_with_Lions</a></td>\n",
       "            </tr>\n",
       "            <tr>\n",
       "                        <th id=\"T_0c7ef782_08e9_11ea_bd69_f430b9839aadlevel0_row4\" class=\"row_heading level0 row4\" >4</th>\n",
       "                        <td id=\"T_0c7ef782_08e9_11ea_bd69_f430b9839aadrow4_col0\" class=\"data row4 col0\" >25122</td>\n",
       "                        <td id=\"T_0c7ef782_08e9_11ea_bd69_f430b9839aadrow4_col1\" class=\"data row4 col1\" >Apoorva Sagodharargal (1989 film)</td>\n",
       "                        <td id=\"T_0c7ef782_08e9_11ea_bd69_f430b9839aadrow4_col2\" class=\"data row4 col2\" >Apoorva Sagodharargal   (English: Rare Brothers) is a 1989 Indian Tamil-language comedy-drama film, directed by Singeetam Srinivasa Rao. The film stars Kamal Haasan in three roles, as a mechanic, a circus clown who is a dwarf and a police officer, along with Gautami and Rupini playing lead roles with Srividya, Manorama, Nagesh, Jaishankar, Nassar, and Delhi Ganesh playing supporting roles. The music for the film was composed by Ilaiyaraaja, with lyrics written by Vaali. The film was produced by Kamal Haasan and his brother Chandra Haasan under the production company Raaj Kamal Films International.The film tells the story of twins who were separated during childhood who grow up in different localities, with one of them Appu, being a midget working for a circus. Appu comes to know that his father was an honest police officer who was killed by four criminals. The rest of the film shows how Appu succeeds in avenging the death of his father and how Raja proves his innocence as he is blamed for the murders committed by Appu.The film's story was written by Panchu Arunachalam, while Kamal Haasan and Crazy Mohan wrote screenplay and dialogues respectively. B. Lenin and V. T. Vijayan handled editing respectively, while the cinematography was handled by P. C. Sriram.  The film premiered at the International Film Festival of India, The film was released on 14 April 1989, was a box office success and completed a 200-day run. It became the highest grossing Tamil cinema movie, until its collections were broken by Baashha (1995). It was dubbed into Telugu as Vichithra Sodarulu and into Hindi as Appu Raja in 1990. Appu Raja released on 50 screens in North India, netting ₹50 lakh at the box office.</td>\n",
       "                        <td id=\"T_0c7ef782_08e9_11ea_bd69_f430b9839aadrow4_col3\" class=\"data row4 col3\" ><a target=\"_blank\" href=\"https://en.wikipedia.org/wiki/Appu_Raja\">https://en.wikipedia.org/wiki/Appu_Raja</a></td>\n",
       "            </tr>\n",
       "    </tbody></table>"
      ],
      "text/plain": [
       "<pandas.io.formats.style.Styler at 0x1bab48d1630>"
      ]
     },
     "execution_count": 353,
     "metadata": {},
     "output_type": "execute_result"
    }
   ],
   "source": [
    "result = get_results(query)\n",
    "result.head().style.format({'Wikipedia Url': Linked_URL}).format({'Intro': replacer})  # to get clickable urls     \n"
   ]
  },
  {
   "cell_type": "code",
   "execution_count": 354,
   "metadata": {},
   "outputs": [
    {
     "data": {
      "text/plain": [
       "['lion']"
      ]
     },
     "execution_count": 354,
     "metadata": {},
     "output_type": "execute_result"
    }
   ],
   "source": []
  },
  {
   "cell_type": "markdown",
   "metadata": {},
   "source": [
    "# TFIDF Inverted Index"
   ]
  },
  {
   "cell_type": "code",
   "execution_count": 149,
   "metadata": {},
   "outputs": [],
   "source": [
    "with open(path + \"\\\\WORDS\\\\Inverted_index.json\", encoding = \"utf-8\") as fd:\n",
    "        inverted_index = json.load(fd)"
   ]
  },
  {
   "cell_type": "code",
   "execution_count": 151,
   "metadata": {},
   "outputs": [],
   "source": [
    "with open(path + \"\\\\WORDS\\\\DocWords.json\", encoding = \"utf-8\") as fd:\n",
    "        docwords = json.load(fd)"
   ]
  },
  {
   "cell_type": "code",
   "execution_count": 321,
   "metadata": {},
   "outputs": [],
   "source": [
    "IDFs = dict()\n",
    "inv_ind_tfIDF = defaultdict(list)\n",
    "for term in inverted_index.keys() :\n",
    "        IDFs[term] = log(1+ 30000/len(inverted_index[term]))\n",
    "        for doc in inverted_index[term] :\n",
    "            tf = docwords[doc].count(vocabulary[term]) / len(docwords[doc])\n",
    "            tfidf = tf * IDFs[term]\n",
    "            inv_ind_tfIDF[term].append((doc,round(tfidf, 3)))\n",
    "                       "
   ]
  },
  {
   "cell_type": "code",
   "execution_count": 162,
   "metadata": {},
   "outputs": [],
   "source": [
    "savetojson(path + \"\\\\WORDS\\\\TfIdf_inv_index.json\", inv_ind_tfIDF)"
   ]
  },
  {
   "cell_type": "markdown",
   "metadata": {},
   "source": [
    "# 2.2) Conjunctive query & Ranking score"
   ]
  },
  {
   "cell_type": "code",
   "execution_count": 254,
   "metadata": {},
   "outputs": [],
   "source": [
    "cosine_distance = spatial.distance.cosine\n",
    "def cosine_similarity(a,b):\n",
    "    return 1 - cosine_distance(a,b)"
   ]
  },
  {
   "cell_type": "code",
   "execution_count": 386,
   "metadata": {},
   "outputs": [],
   "source": [
    "def querytf(query):\n",
    "    qtf = defaultdict()\n",
    "    for word in query :\n",
    "        term_id = reverse_voc[word]\n",
    "        try :\n",
    "            qtf[term_id] += 1/len(query) \n",
    "            \n",
    "        except :\n",
    "            \n",
    "            qtf[term_id] = 1/len(query)\n",
    "    for term in qtf.keys():\n",
    "        qtf[term] *= IDFs[term]\n",
    "        \n",
    "    return(qtf)"
   ]
  },
  {
   "cell_type": "code",
   "execution_count": 322,
   "metadata": {},
   "outputs": [],
   "source": [
    "vocabulary = json.loads(open(path + \"\\\\WORDS\\\\vocabulary.json\", encoding = 'utf-8').read())\n",
    "inv_ind_tfIDF = json.loads(open(path + \"\\\\WORDS\\\\TfIdf_inv_index.json\", encoding = 'utf-8').read())"
   ]
  },
  {
   "cell_type": "code",
   "execution_count": 379,
   "metadata": {},
   "outputs": [],
   "source": [
    "def execute_SE2(query) :\n",
    "    results = get_results(query)\n",
    "    ids = get_query_index(query)\n",
    "    wordtf = defaultdict(list)\n",
    "    for i in results['Id']:\n",
    "        doc = 'document_'+str(i)\n",
    "        for term in ids:\n",
    "            for docs in inv_ind_tfIDF[term]:\n",
    "                if docs[0] == doc:\n",
    "                    wordtf[i].append(docs[1])\n",
    "        \n",
    "    return(wordtf)\n"
   ]
  },
  {
   "cell_type": "code",
   "execution_count": null,
   "metadata": {},
   "outputs": [],
   "source": [
    "with open(path + \"\\\\tsvs.json\", encoding = \"utf-8\") as fd:\n",
    "        newdict = json.load(fd)"
   ]
  },
  {
   "cell_type": "code",
   "execution_count": 389,
   "metadata": {},
   "outputs": [
    {
     "name": "stdout",
     "output_type": "stream",
     "text": [
      "insert your text : lion king disney\n"
     ]
    },
    {
     "data": {
      "text/html": [
       "<style  type=\"text/css\" >\n",
       "</style><table id=\"T_96fa10d8_08f4_11ea_8343_f430b9839aad\" ><thead>    <tr>        <th class=\"blank level0\" ></th>        <th class=\"col_heading level0 col0\" >Title</th>        <th class=\"col_heading level0 col1\" >Intro</th>        <th class=\"col_heading level0 col2\" >URL</th>        <th class=\"col_heading level0 col3\" >Score</th>    </tr></thead><tbody>\n",
       "                <tr>\n",
       "                        <th id=\"T_96fa10d8_08f4_11ea_8343_f430b9839aadlevel0_row0\" class=\"row_heading level0 row0\" >13043</th>\n",
       "                        <td id=\"T_96fa10d8_08f4_11ea_8343_f430b9839aadrow0_col0\" class=\"data row0 col0\" >RocketMan</td>\n",
       "                        <td id=\"T_96fa10d8_08f4_11ea_8343_f430b9839aadrow0_col1\" class=\"data row0 col1\" >RocketMan (also written as Rocket Man) is a 1997 American comic science fiction film directed by Stuart Gillard and starring Harland Williams, Jessica Lundy, William Sadler and Jeffrey DeMunn. It was produced by Walt Disney Pictures and Caravan Pictures, and was released on October 10, 1997.</td>\n",
       "                        <td id=\"T_96fa10d8_08f4_11ea_8343_f430b9839aadrow0_col2\" class=\"data row0 col2\" ><a target=\"_blank\" href=\"https://en.wikipedia.org/wiki/RocketMan\">https://en.wikipedia.org/wiki/RocketMan</a></td>\n",
       "                        <td id=\"T_96fa10d8_08f4_11ea_8343_f430b9839aadrow0_col3\" class=\"data row0 col3\" >0.999869</td>\n",
       "            </tr>\n",
       "            <tr>\n",
       "                        <th id=\"T_96fa10d8_08f4_11ea_8343_f430b9839aadlevel0_row1\" class=\"row_heading level0 row1\" >12927</th>\n",
       "                        <td id=\"T_96fa10d8_08f4_11ea_8343_f430b9839aadrow1_col0\" class=\"data row1 col0\" >George of the Jungle (film)</td>\n",
       "                        <td id=\"T_96fa10d8_08f4_11ea_8343_f430b9839aadrow1_col1\" class=\"data row1 col1\" >George of the Jungle is a 1997 American romantic comedy film directed by Sam Weisman and based on the Jay Ward cartoon of the same name, which is also a spoof of Tarzan. The film was produced by Walt Disney Pictures with Mandeville Films and The Kerner Entertainment Company and was released in theatres on July 16, 1997. It stars Brendan Fraser as the eponymous main character, a primitive man who was raised by animals in an African jungle; Leslie Mann as his love interest; and Thomas Haden Church as her treacherous fiancé.A direct-to-video sequel, George of the Jungle 2, was released on DVD in 2003; however, only three of the original actors (Thomas Haden Church, John Cleese, and Keith Scott) returned for the sequel.</td>\n",
       "                        <td id=\"T_96fa10d8_08f4_11ea_8343_f430b9839aadrow1_col2\" class=\"data row1 col2\" ><a target=\"_blank\" href=\"https://en.wikipedia.org/wiki/George_of_the_Jungle_(film)\">https://en.wikipedia.org/wiki/George_of_the_Jungle_(film)</a></td>\n",
       "                        <td id=\"T_96fa10d8_08f4_11ea_8343_f430b9839aadrow1_col3\" class=\"data row1 col3\" >0.999869</td>\n",
       "            </tr>\n",
       "            <tr>\n",
       "                        <th id=\"T_96fa10d8_08f4_11ea_8343_f430b9839aadlevel0_row2\" class=\"row_heading level0 row2\" >21519</th>\n",
       "                        <td id=\"T_96fa10d8_08f4_11ea_8343_f430b9839aadrow2_col0\" class=\"data row2 col0\" >The Care Bears Movie</td>\n",
       "                        <td id=\"T_96fa10d8_08f4_11ea_8343_f430b9839aadrow2_col1\" class=\"data row2 col1\" >The Care Bears Movie is a 1985 Canadian-American animated fantasy film and the second feature film from the Canadian animation studio Nelvana (after the 1983 film, Rock & Rule).  One of the first films based directly on a toy line, it introduced the Care Bears characters and their companions the Care Bear Cousins.[nb 2] In the film, an orphanage owner (Mickey Rooney) tells a story about the Care Bears, who live in a cloud-filled land called Care-a-Lot. Traveling across Earth, the Bears help two lonely children named Kim and Jason, who lost their parents in a car accident, and also save a young magician's apprentice named Nicholas from an evil spirit's influence. Deep within a place called the Forest of Feelings, Kim, Jason, and their friends soon meet another group of creatures, the Care Bear Cousins.American Greetings, the owners of the Care Bears characters, began development of a feature film adaptation in 1981. Later on, the card company chose Nelvana to produce it, granted them rights to the characters, and financed the film along with cereal manufacturer General Mills and television syndicator LBS Communications. Nelvana's founders served as producers, while fellow employee Arna Selznick directed the film. Production lasted eight months, with a production budget of at least \\$2 million, and took place in Canada, Taiwan, and South Korea. The voice cast included Mickey Rooney, Georgia Engel, Jackie Burroughs and Cree Summer. Two pop music stars, Carole King and John Sebastian, contributed several songs. Although major American film studios passed on the project, newly established independent distributor The Samuel Goldwyn Company acquired the distribution rights to the film and soon spent a record \\$24 million promoting it.The film premiered on March 24, 1985, in Washington, D.C., and was released in North America on March 29, 1985.[nb 3] Another Nelvana work, Strawberry Shortcake Meets the Berrykins, played alongside the feature in theatres. The Care Bears Movie received mixed reviews from critics, who raised concern over its potential as a full-length advertisement for the title characters among other aspects. It went on to earn \\$23 million domestically; as Canada's highest-grossing film during 1985 (with C\\$1.845 million), it won a Golden Reel Award. With over \\$34 million in worldwide sales, it set a box-office record for Canadian and non-Disney animation, and has remained one of Goldwyn's largest-earning releases. The film's success saved Nelvana from closing and helped revive films aimed at children in the US market. It has since been cited as inspiring a spate of toy-based animated and live-action features. It was soon followed by two sequels, A New Generation (1986) and Adventure in Wonderland (1987); neither surpassed the original financially or critically. The Care Bears franchise continues and has included television series, specials, videos, and films.</td>\n",
       "                        <td id=\"T_96fa10d8_08f4_11ea_8343_f430b9839aadrow2_col2\" class=\"data row2 col2\" ><a target=\"_blank\" href=\"https://en.wikipedia.org/wiki/The_Care_Bears_Movie\">https://en.wikipedia.org/wiki/The_Care_Bears_Movie</a></td>\n",
       "                        <td id=\"T_96fa10d8_08f4_11ea_8343_f430b9839aadrow2_col3\" class=\"data row2 col3\" >0.999262</td>\n",
       "            </tr>\n",
       "            <tr>\n",
       "                        <th id=\"T_96fa10d8_08f4_11ea_8343_f430b9839aadlevel0_row3\" class=\"row_heading level0 row3\" >12171</th>\n",
       "                        <td id=\"T_96fa10d8_08f4_11ea_8343_f430b9839aadrow3_col0\" class=\"data row3 col0\" >The Lion King</td>\n",
       "                        <td id=\"T_96fa10d8_08f4_11ea_8343_f430b9839aadrow3_col1\" class=\"data row3 col1\" >The Lion King is a 1994 American animated musical film produced by Walt Disney Feature Animation and released by Walt Disney Pictures. It is the 32nd Disney animated feature film, and the fifth animated film produced during a period known as the Disney Renaissance. The Lion King was directed by Roger Allers and Rob Minkoff, produced by Don Hahn, and has a screenplay credited to Irene Mecchi, Jonathan Roberts, and Linda Woolverton. Its original songs were written by composer Elton John and lyricist Tim Rice, with a score by Hans Zimmer. The film features an ensemble voice cast that includes Matthew Broderick, James Earl Jones, Jeremy Irons, Jonathan Taylor Thomas, Moira Kelly, Nathan Lane, Ernie Sabella, Rowan Atkinson, Robert Guillaume, Madge Sinclair, Whoopi Goldberg, Cheech Marin, and Jim Cummings. The story takes place in a kingdom of lions in Africa and was influenced by the Biblical stories of Joseph and Moses, and William Shakespeare's Hamlet.The Lion King tells the story of Simba (Swahili for lion[3]), a young lion who is to succeed his father, Mufasa, as King of the Pride Lands; however, after Simba's paternal uncle Scar murders Mufasa, Simba is manipulated into thinking he was responsible and flees into exile. After growing up in the company of the carefree outcasts Timon and Pumbaa, Simba receives valuable perspective from his childhood friend, Nala, and his shaman, Rafiki, before returning to challenge Scar to end his tyranny and take his place in the Circle of Life as the rightful King.Development of The Lion King began in 1988 during a meeting between Jeffrey Katzenberg, Roy E. Disney, and Peter Schneider while promoting Oliver & Company in Europe. Thomas M. Disch wrote a film treatment, and Woolverton developed the first scripts, while George Scribner was signed on as director, being later joined by Allers. Production began in 1991 concurrently with Pocahontas, which wound up attracting many of Disney's top animators. Some time after the staff traveled to Hell's Gate National Park in Kenya to research on the film's setting and animals, Scribner left production, disagreeing with the decision to turn the film into a musical, and was replaced by Minkoff. When Hahn joined the project, he was dissatisfied with the script and the story was promptly rewritten. Nearly 20 minutes of animation sequences were produced at the Disney-MGM Studios theme park in Florida. Computer animation was also used in several scenes, most notably in the wildebeest stampede sequence.The Lion King was released on June 15, 1994, to a positive reaction from critics, who praised the film for its music, story, and animation. However, the film also drew several controversies, particularly for its similarities to Osamu Tezuka's 1960s anime series Kimba the White Lion. With an initial worldwide gross of \\$766 million, it finished its theatrical run as the highest-grossing release of 1994, the highest-grossing animated film and the second-highest-grossing film of all time. It is also the highest-grossing traditionally animated film of all time, as well as the best-selling film on home video, having sold over 30 million VHS tapes. The Lion King garnered two Academy Awards for its achievement in music and the Golden Globe Award for Best Motion Picture – Musical or Comedy. The film has led to many derived works, such as a Broadway adaptation; two direct-to-video follow-ups—the sequel, The Lion King II: Simba's Pride (1998), and the prequel/parallel, The Lion King 1½ (2004); two television series, Timon and Pumbaa and The Lion Guard; a 3D re-release in 2011; and a photorealistic computer-animated remake in 2019, which also became the highest-grossing animated film at the time of its release.In 2016, the film was selected for preservation in the United States National Film Registry by the Library of Congress as being \"culturally, historically, or aesthetically significant\".</td>\n",
       "                        <td id=\"T_96fa10d8_08f4_11ea_8343_f430b9839aadrow3_col2\" class=\"data row3 col2\" ><a target=\"_blank\" href=\"https://en.wikipedia.org/wiki/The_Lion_King\">https://en.wikipedia.org/wiki/The_Lion_King</a></td>\n",
       "                        <td id=\"T_96fa10d8_08f4_11ea_8343_f430b9839aadrow3_col3\" class=\"data row3 col3\" >0.953505</td>\n",
       "            </tr>\n",
       "            <tr>\n",
       "                        <th id=\"T_96fa10d8_08f4_11ea_8343_f430b9839aadlevel0_row4\" class=\"row_heading level0 row4\" >16915</th>\n",
       "                        <td id=\"T_96fa10d8_08f4_11ea_8343_f430b9839aadrow4_col0\" class=\"data row4 col0\" >Minions (film)</td>\n",
       "                        <td id=\"T_96fa10d8_08f4_11ea_8343_f430b9839aadrow4_col1\" class=\"data row4 col1\" >Minions is a 2015 American 3D computer-animated comedy film,[7] serving as a spin-off prequel to the Despicable Me franchise. Produced by Illumination Entertainment for Universal Pictures, it was directed by Pierre Coffin and Kyle Balda, written by Brian Lynch, and produced by Chris Meledandri and Janet Healy.[8] The film stars the voices of Coffin (as the Minions, including: Kevin, Stuart, and Bob), Sandra Bullock, Jon Hamm, Michael Keaton, Allison Janney, Steve Coogan, and Jennifer Saunders, with the narration provided by Geoffrey Rush. It was first foreshadowed in the end credits of Despicable Me 2 (2013), where Kevin, Stuart, and Bob, three of the Minions and the film's main characters, are seen auditioning for the film.[9]Minions had its premiere on June 11, 2015, in Leicester Square, London, and went into general release in the United States on July 10, 2015.[10] Critical response was mixed: some critics praised the comedic aspects of the film and the vocal performances of Bullock and Hamm,[11] while also saying they felt that the title characters were not able to carry the film on their own, and that the villains were flatly characterized. The film has grossed over \\$1.1 billion worldwide (outgrossing each of the Despicable Me films), making it the fifth-highest-grossing film of 2015, the 20th highest-grossing film of all time, the fourth highest-grossing animated film (behind the 2019 version of The Lion King, Frozen,[12] and Incredibles 2) and the highest-grossing non-Disney animated film.[13] A sequel, Minions: The Rise of Gru will be released on July 3, 2020.[14]</td>\n",
       "                        <td id=\"T_96fa10d8_08f4_11ea_8343_f430b9839aadrow4_col2\" class=\"data row4 col2\" ><a target=\"_blank\" href=\"https://en.wikipedia.org/wiki/Minions_(film)\">https://en.wikipedia.org/wiki/Minions_(film)</a></td>\n",
       "                        <td id=\"T_96fa10d8_08f4_11ea_8343_f430b9839aadrow4_col3\" class=\"data row4 col3\" >0.953371</td>\n",
       "            </tr>\n",
       "            <tr>\n",
       "                        <th id=\"T_96fa10d8_08f4_11ea_8343_f430b9839aadlevel0_row5\" class=\"row_heading level0 row5\" >15328</th>\n",
       "                        <td id=\"T_96fa10d8_08f4_11ea_8343_f430b9839aadrow5_col0\" class=\"data row5 col0\" >The Chronicles of Narnia: Prince Caspian</td>\n",
       "                        <td id=\"T_96fa10d8_08f4_11ea_8343_f430b9839aadrow5_col1\" class=\"data row5 col1\" >The Chronicles of Narnia: Prince Caspian is a 2008 American high fantasy film co-written and directed by Andrew Adamson, based on Prince Caspian, the second published, fourth chronological novel in C. S. Lewis's epic fantasy series, The Chronicles of Narnia. It is the second in The Chronicles of Narnia film series from Walden Media, following The Chronicles of Narnia: The Lion, the Witch and the Wardrobe (2005).  William Moseley, Anna Popplewell, Skandar Keynes, Georgie Henley, Liam Neeson, and Tilda Swinton reprise their roles from the first film, while new cast includes Ben Barnes, Sergio Castellitto, Peter Dinklage, Eddie Izzard, Warwick Davis, Ken Stott, and Vincent Grass. In the film, the four Pevensie children return to Narnia to aid Prince Caspian in his struggle with the \"secret\" help of Aslan for the throne against his corrupt uncle, King Miraz.Prince Caspian, a British-American production, is the last Narnia film to be co-produced by Walt Disney Pictures, as 20th Century Fox became the distributor for the next film The Chronicles of Narnia: The Voyage of the Dawn Treader due to budgetary disputes between Disney and Walden Media, but as a result of Disney eventually purchasing Fox on March 20, 2019, Disney now owns the rights to all three Narnia movies.[3] Work on the script began before The Lion, the Witch and the Wardrobe was released, so filming could begin before the actors grew too old for their parts. Director Andrew Adamson wanted to make the film more spectacular than the first, and created an action sequence not in the novel. The Narnians were designed to look wilder as they have been hiding from persecution, stressing the darker tone of the sequel. The filmmakers also took a Spanish influence for the antagonistic race of the Telmarines. Filming began in February 2007 in New Zealand, but unlike the previous film, the majority of shooting took place in Central Europe, because of the larger sets available in those countries. To keep costs down, Adamson chose to base post-production in the UK, because of recent tax credits there.The Chronicles of Narnia: Prince Caspian premiered on May 7, 2008 at the Ziegfeld Theatre in New York City, before it was theatrically released on May 16 in the United States and on June 26 in the United Kingdom. The film received mostly positive reviews from film critics; many praised the performances and visual effects, however, the film's darker tone and mature themes drew polarizing opinions. It was a moderate success at the box office, grossing \\$55 million during its opening weekend. By the end of its theatrical run, it had grossed over \\$419.7 million worldwide. The film became the 10th highest-grossing film worldwide in 2008.</td>\n",
       "                        <td id=\"T_96fa10d8_08f4_11ea_8343_f430b9839aadrow5_col2\" class=\"data row5 col2\" ><a target=\"_blank\" href=\"https://en.wikipedia.org/wiki/The_Chronicles_of_Narnia:_Prince_Caspian\">https://en.wikipedia.org/wiki/The_Chronicles_of_Narnia:_Prince_Caspian</a></td>\n",
       "                        <td id=\"T_96fa10d8_08f4_11ea_8343_f430b9839aadrow5_col3\" class=\"data row5 col3\" >0.95029</td>\n",
       "            </tr>\n",
       "            <tr>\n",
       "                        <th id=\"T_96fa10d8_08f4_11ea_8343_f430b9839aadlevel0_row6\" class=\"row_heading level0 row6\" >11093</th>\n",
       "                        <td id=\"T_96fa10d8_08f4_11ea_8343_f430b9839aadrow6_col0\" class=\"data row6 col0\" >Cheetah (1989 film)</td>\n",
       "                        <td id=\"T_96fa10d8_08f4_11ea_8343_f430b9839aadrow6_col1\" class=\"data row6 col1\" >Cheetah, also known as Cheetah and Friends, is a 1989 American family drama film from Walt Disney Pictures starring Keith Coogan and Lucy Deakins. This motion picture was loosely based on Alan Caillou's novel The Cheetahs. It was shot in Nairobi, Kenya. This motion picture features the phrase \"Hakuna matata\" which became famous when Disney released The Lion King five years later.</td>\n",
       "                        <td id=\"T_96fa10d8_08f4_11ea_8343_f430b9839aadrow6_col2\" class=\"data row6 col2\" ><a target=\"_blank\" href=\"https://en.wikipedia.org/wiki/Cheetah_(1989_film)\">https://en.wikipedia.org/wiki/Cheetah_(1989_film)</a></td>\n",
       "                        <td id=\"T_96fa10d8_08f4_11ea_8343_f430b9839aadrow6_col3\" class=\"data row6 col3\" >0.946245</td>\n",
       "            </tr>\n",
       "            <tr>\n",
       "                        <th id=\"T_96fa10d8_08f4_11ea_8343_f430b9839aadlevel0_row7\" class=\"row_heading level0 row7\" >13209</th>\n",
       "                        <td id=\"T_96fa10d8_08f4_11ea_8343_f430b9839aadrow7_col0\" class=\"data row7 col0\" >The Lion King II: Simba's Pride</td>\n",
       "                        <td id=\"T_96fa10d8_08f4_11ea_8343_f430b9839aadrow7_col1\" class=\"data row7 col1\" >The Lion King II: Simba's Pride (later retitled The Lion King 2: Simba's Pride) is a 1998 American animated direct-to-video romantic musical film and a sequel to Disney's 1994 animated feature film, The Lion King. The story takes place in a kingdom of lions in Africa and was influenced by William Shakespeare's Romeo and Juliet. According to co-director Darrell Rooney, the final draft gradually became a variation of Romeo and Juliet.Produced by Walt Disney Video Premiere and Walt Disney Animation Australia and released on October 27, 1998, the film centers on Simba and Nala's daughter Kiara, who falls in love with Kovu, a male rogue lion from a banished pride that was once loyal to Simba's evil uncle, Scar. Separated by Simba's prejudice against the banished pride and a vindictive plot planned by Kovu's mother Zira, Kiara and Kovu struggle to unite their estranged prides and be together.Most of the original cast returned to their roles from the first film with a few exceptions. Rowan Atkinson, who voiced Zazu in the first film was replaced by Edward Hibbert for this film and The Lion King 1½, Jeremy Irons, who voiced Scar in the first film was replaced by Jim Cummings for this film and Madge Sinclair who voiced Sarabi in the first film died in 1995.</td>\n",
       "                        <td id=\"T_96fa10d8_08f4_11ea_8343_f430b9839aadrow7_col2\" class=\"data row7 col2\" ><a target=\"_blank\" href=\"https://en.wikipedia.org/wiki/The_Lion_King_II:_Simba%27s_Pride\">https://en.wikipedia.org/wiki/The_Lion_King_II:_Simba%27s_Pride</a></td>\n",
       "                        <td id=\"T_96fa10d8_08f4_11ea_8343_f430b9839aadrow7_col3\" class=\"data row7 col3\" >0.909325</td>\n",
       "            </tr>\n",
       "            <tr>\n",
       "                        <th id=\"T_96fa10d8_08f4_11ea_8343_f430b9839aadlevel0_row8\" class=\"row_heading level0 row8\" >16540</th>\n",
       "                        <td id=\"T_96fa10d8_08f4_11ea_8343_f430b9839aadrow8_col0\" class=\"data row8 col0\" >Oz the Great and Powerful</td>\n",
       "                        <td id=\"T_96fa10d8_08f4_11ea_8343_f430b9839aadrow8_col1\" class=\"data row8 col1\" >Oz the Great and Powerful is a 2013 American fantasy adventure film directed by Sam Raimi and written by David Lindsay-Abaire and Mitchell Kapner from a story by Kapner. Based on L. Frank Baum's Oz novels and set 20 years before the events of the original novel,[5] the film is a spiritual prequel to the 1939 Metro-Goldwyn-Mayer film The Wizard of Oz.[6] Starring James Franco in the title role, Mila Kunis, Rachel Weisz, Michelle Williams, Zach Braff, Bill Cobbs, Joey King, and Tony Cox, the film tells the story of Oscar Diggs, a deceptive magician who arrives in the Land of Oz and encounters three witches: Theodora, Evanora, and Glinda. Oscar is then enlisted to restore order in Oz while struggling to resolve conflicts with the witches and himself.Kapner began developing an origin story for the Wizard of Oz after a lifelong interest of wanting to create one for the character. Walt Disney Pictures commissioned the film's production in 2009 with Joe Roth as producer and Grant Curtis, Joshua Donen, Philip Steuer and Palak Patel serving as executive producers. Raimi was hired to direct the following year. After Robert Downey Jr. and Johnny Depp declined the titular role, Franco was cast in February 2011 with principal photography commencing five months later. Danny Elfman composed the film's score.Oz the Great and Powerful premiered at the El Capitan Theatre on February 14, 2013 followed by a general theatrical release on March 8, 2013 in Disney Digital 3-D, RealD 3D and IMAX 3D formats. Despite receiving mixed reviews from critics, the film grossed over \\$493 million worldwide against a \\$200 million budget, making it the 13th-highest-grossing film of 2013. The film won the Phoenix Film Critics Society Award for Best Live Action Family Film[7] and Kunis won the 2014 MTV Movie Award for Best Villain for her performance as the Wicked Witch of the West.[8]</td>\n",
       "                        <td id=\"T_96fa10d8_08f4_11ea_8343_f430b9839aadrow8_col2\" class=\"data row8 col2\" ><a target=\"_blank\" href=\"https://en.wikipedia.org/wiki/Oz_the_Great_and_Powerful\">https://en.wikipedia.org/wiki/Oz_the_Great_and_Powerful</a></td>\n",
       "                        <td id=\"T_96fa10d8_08f4_11ea_8343_f430b9839aadrow8_col3\" class=\"data row8 col3\" >0.879533</td>\n",
       "            </tr>\n",
       "            <tr>\n",
       "                        <th id=\"T_96fa10d8_08f4_11ea_8343_f430b9839aadlevel0_row9\" class=\"row_heading level0 row9\" >12470</th>\n",
       "                        <td id=\"T_96fa10d8_08f4_11ea_8343_f430b9839aadrow9_col0\" class=\"data row9 col0\" >Pocahontas (1995 film)</td>\n",
       "                        <td id=\"T_96fa10d8_08f4_11ea_8343_f430b9839aadrow9_col1\" class=\"data row9 col1\" >Pocahontas is a 1995 American animated musical romantic drama film produced by Walt Disney Feature Animation for Walt Disney Pictures. The 33rd Disney animated feature film and the sixth animated film produced and released during the period known as the Disney Renaissance, it was directed by Mike Gabriel and Eric Goldberg and is loosely based on the life of the Native American woman of the same name. It portrays a fictionalized account of her historical encounter with Englishman John Smith and the Jamestown settlers that arrived from the Virginia Company. The voice cast stars Irene Bedard and Mel Gibson as Pocahontas and Smith, respectively, with David Ogden Stiers, Russell Means, Christian Bale, Billy Connolly and Linda Hunt. The score was written by Alan Menken, who also wrote the film's songs with Stephen Schwartz.After making his directorial debut with The Rescuers Down Under (1990), Gabriel conceived the film during a Thanksgiving weekend. The project went into development concurrently with The Lion King (1994) and attracted most of Disney's top animators. Meanwhile, Disney studio chairman Jeffrey Katzenberg decided the film should be a serious romantic epic in the vein of Beauty and the Beast (1991), in hope that, like Beauty,  it would also be nominated for the Academy Award for Best Picture. Screenwriters Carl Binder, Susannah Grant and Philip LaZebnik took creative liberties with history in an attempt to make the film palatable to audiences.Pocahontas was released on June 23, 1995 to mixed reactions from reviewers, who praised its animation, musical score and songs but criticized its story, while the film's racial overtones and artistic license received polarized responses. Pocahontas earned \\$346 million at the box office and its gross was seen as a disappointment compared to that of The Lion King. The film received two Academy Awards for Best Musical or Comedy Score for Menken and Best Original Song for \"Colors of the Wind\". A video game based on Pocahontas was released across various platforms and the film itself was followed by a direct-to-video sequel titled Pocahontas II: Journey to a New World in 1998. According to critics, Pocahontas has influenced subsequent films.</td>\n",
       "                        <td id=\"T_96fa10d8_08f4_11ea_8343_f430b9839aadrow9_col2\" class=\"data row9 col2\" ><a target=\"_blank\" href=\"https://en.wikipedia.org/wiki/Pocahontas_(1995_film)\">https://en.wikipedia.org/wiki/Pocahontas_(1995_film)</a></td>\n",
       "                        <td id=\"T_96fa10d8_08f4_11ea_8343_f430b9839aadrow9_col3\" class=\"data row9 col3\" >0.873607</td>\n",
       "            </tr>\n",
       "    </tbody></table>"
      ],
      "text/plain": [
       "<pandas.io.formats.style.Styler at 0x1bab3e89748>"
      ]
     },
     "execution_count": 389,
     "metadata": {},
     "output_type": "execute_result"
    }
   ],
   "source": [
    "query = input(\"insert your text : \")\n",
    "\n",
    "query = clean(query)\n",
    "\n",
    "wordtf = execute_SE2(query)\n",
    "qtfs = querytf(query)\n",
    "list_query = list(qtfs.values())\n",
    "\n",
    "heap = []\n",
    "for doc in wordtf:\n",
    "    heapq.heappush(heap, (cosine_similarity(list_query, wordtf[doc]), doc))\n",
    "    \n",
    "\n",
    "    \n",
    "heap_result = heapq.nlargest(10, heap)\n",
    "df = dict()\n",
    "for x,y in heap_result:\n",
    "    df[y] = newdict[y][0:2]\n",
    "    df[y].append(Movies[y])\n",
    "    df[y].append(x)\n",
    "     # to get clickable urls\n",
    "df = pd.DataFrame.from_dict(df, orient = 'index', columns=['Title', 'Intro', 'URL', 'Score'])\n",
    "df.style.format({'URL': make_clickable}).format({'Intro' : replacer})    \n",
    "\n",
    "\n",
    "\n"
   ]
  },
  {
   "cell_type": "code",
   "execution_count": 392,
   "metadata": {},
   "outputs": [
    {
     "data": {
      "text/plain": [
       "[1.5329187392593246, 0.962692185457649, 1.4026825549898354]"
      ]
     },
     "execution_count": 392,
     "metadata": {},
     "output_type": "execute_result"
    }
   ],
   "source": []
  },
  {
   "cell_type": "code",
   "execution_count": 255,
   "metadata": {},
   "outputs": [
    {
     "data": {
      "text/plain": [
       "1.0"
      ]
     },
     "execution_count": 255,
     "metadata": {},
     "output_type": "execute_result"
    }
   ],
   "source": [
    "cosine_similarity(list_query, wordtf['12282'])"
   ]
  },
  {
   "cell_type": "code",
   "execution_count": 246,
   "metadata": {},
   "outputs": [
    {
     "data": {
      "text/plain": [
       "[1.0]"
      ]
     },
     "execution_count": 246,
     "metadata": {},
     "output_type": "execute_result"
    }
   ],
   "source": [
    "wordtf['12282']\n",
    "list_query"
   ]
  },
  {
   "cell_type": "code",
   "execution_count": 234,
   "metadata": {},
   "outputs": [],
   "source": []
  },
  {
   "cell_type": "code",
   "execution_count": 235,
   "metadata": {},
   "outputs": [
    {
     "data": {
      "text/plain": [
       "defaultdict(list,\n",
       "            {'12282': [0.007],\n",
       "             '10261': [0.153],\n",
       "             '15530': [0.025],\n",
       "             '21994': [0.021],\n",
       "             '17141': [0.007],\n",
       "             '9706': [0.012],\n",
       "             '20866': [0.012],\n",
       "             '8386': [0.054],\n",
       "             '2892': [0.022],\n",
       "             '12943': [0.013],\n",
       "             '13336': [0.051],\n",
       "             '16819': [0.015],\n",
       "             '15005': [0.009],\n",
       "             '9070': [0.015],\n",
       "             '14358': [0.009],\n",
       "             '14979': [0.009],\n",
       "             '14867': [0.009],\n",
       "             '13043': [0.009],\n",
       "             '9365': [0.038],\n",
       "             '13497': [0.019],\n",
       "             '12060': [0.02],\n",
       "             '7957': [0.021],\n",
       "             '13573': [0.04],\n",
       "             '7576': [0.032],\n",
       "             '14774': [0.035],\n",
       "             '4440': [0.08],\n",
       "             '15872': [0.02],\n",
       "             '3829': [0.03],\n",
       "             '8300': [0.028],\n",
       "             '14195': [0.023],\n",
       "             '16016': [0.007],\n",
       "             '15321': [0.039],\n",
       "             '15917': [0.026],\n",
       "             '15703': [0.023],\n",
       "             '11752': [0.008],\n",
       "             '7243': [0.047],\n",
       "             '9876': [0.008],\n",
       "             '13857': [0.039],\n",
       "             '16323': [0.022],\n",
       "             '13834': [0.007],\n",
       "             '11028': [0.026],\n",
       "             '13601': [0.019],\n",
       "             '14583': [0.009],\n",
       "             '17029': [0.028],\n",
       "             '15085': [0.007],\n",
       "             '11459': [0.019],\n",
       "             '12939': [0.037],\n",
       "             '26084': [0.009],\n",
       "             '19386': [0.048],\n",
       "             '16916': [0.007],\n",
       "             '9798': [0.017],\n",
       "             '13957': [0.019],\n",
       "             '16727': [0.01],\n",
       "             '11567': [0.008],\n",
       "             '11295': [0.008],\n",
       "             '11204': [0.011],\n",
       "             '28077': [0.013],\n",
       "             '8589': [0.025],\n",
       "             '5720': [0.147],\n",
       "             '10487': [0.039],\n",
       "             '8125': [0.026],\n",
       "             '10114': [0.044],\n",
       "             '11057': [0.028],\n",
       "             '15239': [0.008],\n",
       "             '17007': [0.008],\n",
       "             '2563': [0.013],\n",
       "             '1976': [0.016],\n",
       "             '14397': [0.032],\n",
       "             '12915': [0.01],\n",
       "             '11591': [0.014],\n",
       "             '16712': [0.022],\n",
       "             '7158': [0.01],\n",
       "             '9664': [0.015],\n",
       "             '13086': [0.03],\n",
       "             '12853': [0.005],\n",
       "             '3522': [0.011],\n",
       "             '7840': [0.027],\n",
       "             '20112': [0.046],\n",
       "             '20732': [0.008],\n",
       "             '16603': [0.018],\n",
       "             '11422': [0.04],\n",
       "             '15377': [0.007],\n",
       "             '11334': [0.007],\n",
       "             '12480': [0.024],\n",
       "             '14969': [0.01],\n",
       "             '12916': [0.008],\n",
       "             '11878': [0.011],\n",
       "             '16113': [0.051],\n",
       "             '15651': [0.052],\n",
       "             '9512': [0.005],\n",
       "             '14264': [0.015],\n",
       "             '16019': [0.008],\n",
       "             '15865': [0.011],\n",
       "             '22259': [0.006],\n",
       "             '12101': [0.013],\n",
       "             '14073': [0.009],\n",
       "             '3027': [0.041],\n",
       "             '16715': [0.008],\n",
       "             '2865': [0.027],\n",
       "             '7993': [0.033],\n",
       "             '15851': [0.016],\n",
       "             '17018': [0.004],\n",
       "             '9205': [0.008],\n",
       "             '13209': [0.027],\n",
       "             '14265': [0.025],\n",
       "             '14179': [0.007],\n",
       "             '16928': [0.008],\n",
       "             '12595': [0.008],\n",
       "             '16067': [0.047],\n",
       "             '21585': [0.029],\n",
       "             '15197': [0.055],\n",
       "             '9586': [0.01],\n",
       "             '10368': [0.008],\n",
       "             '5923': [0.069],\n",
       "             '15319': [0.012],\n",
       "             '11939': [0.009],\n",
       "             '8246': [0.021],\n",
       "             '26100': [0.014],\n",
       "             '16610': [0.007],\n",
       "             '14052': [0.047],\n",
       "             '14592': [0.007],\n",
       "             '8955': [0.017],\n",
       "             '13646': [0.017],\n",
       "             '12538': [0.021],\n",
       "             '12262': [0.007],\n",
       "             '11463': [0.01],\n",
       "             '13565': [0.018],\n",
       "             '13139': [0.008],\n",
       "             '12311': [0.009],\n",
       "             '6240': [0.04],\n",
       "             '9156': [0.011],\n",
       "             '7843': [0.019],\n",
       "             '15867': [0.029],\n",
       "             '11176': [0.059],\n",
       "             '20615': [0.009],\n",
       "             '14115': [0.043],\n",
       "             '9521': [0.016],\n",
       "             '16430': [0.027],\n",
       "             '26242': [0.005],\n",
       "             '10984': [0.008],\n",
       "             '15871': [0.012],\n",
       "             '19685': [0.035],\n",
       "             '6514': [0.022],\n",
       "             '26376': [0.026],\n",
       "             '8787': [0.018],\n",
       "             '9134': [0.014],\n",
       "             '14099': [0.015],\n",
       "             '8202': [0.056],\n",
       "             '10308': [0.019],\n",
       "             '11695': [0.049],\n",
       "             '16851': [0.024],\n",
       "             '17164': [0.013],\n",
       "             '16893': [0.007],\n",
       "             '16020': [0.007],\n",
       "             '10983': [0.028],\n",
       "             '14821': [0.007],\n",
       "             '16254': [0.022],\n",
       "             '10629': [0.016],\n",
       "             '1602': [0.013],\n",
       "             '8114': [0.022],\n",
       "             '11041': [0.014],\n",
       "             '7716': [0.044],\n",
       "             '8591': [0.022],\n",
       "             '15365': [0.007],\n",
       "             '16682': [0.007],\n",
       "             '7990': [0.044],\n",
       "             '9775': [0.012],\n",
       "             '12322': [0.011],\n",
       "             '7919': [0.013],\n",
       "             '14261': [0.007],\n",
       "             '16555': [0.028],\n",
       "             '6826': [0.008],\n",
       "             '12024': [0.008],\n",
       "             '20919': [0.008],\n",
       "             '12470': [0.039],\n",
       "             '17248': [0.007],\n",
       "             '17227': [0.043],\n",
       "             '5728': [0.013],\n",
       "             '6298': [0.037],\n",
       "             '7486': [0.02],\n",
       "             '3624': [0.029],\n",
       "             '1697': [0.051],\n",
       "             '16472': [0.011],\n",
       "             '9005': [0.005],\n",
       "             '16670': [0.007],\n",
       "             '13479': [0.005],\n",
       "             '17030': [0.008],\n",
       "             '17417': [0.011],\n",
       "             '12783': [0.028],\n",
       "             '12171': [0.038],\n",
       "             '16783': [0.007],\n",
       "             '9757': [0.057],\n",
       "             '9325': [0.009],\n",
       "             '10186': [0.008],\n",
       "             '7409': [0.033],\n",
       "             '10281': [0.025],\n",
       "             '12119': [0.008],\n",
       "             '12031': [0.009],\n",
       "             '9980': [0.105],\n",
       "             '8483': [0.017],\n",
       "             '8977': [0.041],\n",
       "             '7185': [0.008],\n",
       "             '12304': [0.007],\n",
       "             '10282': [0.062],\n",
       "             '9528': [0.023],\n",
       "             '14540': [0.138],\n",
       "             '11093': [0.013],\n",
       "             '10452': [0.03],\n",
       "             '9008': [0.017],\n",
       "             '14017': [0.049],\n",
       "             '15215': [0.007],\n",
       "             '11655': [0.025],\n",
       "             '13416': [0.016],\n",
       "             '3183': [0.017],\n",
       "             '17066': [0.028],\n",
       "             '16901': [0.008],\n",
       "             '16220': [0.007],\n",
       "             '11879': [0.011],\n",
       "             '5265': [0.046],\n",
       "             '14225': [0.031],\n",
       "             '14657': [0.009],\n",
       "             '16911': [0.007],\n",
       "             '13261': [0.021],\n",
       "             '11858': [0.015],\n",
       "             '12004': [0.011],\n",
       "             '9989': [0.007],\n",
       "             '16424': [0.007],\n",
       "             '7535': [0.018],\n",
       "             '10150': [0.026],\n",
       "             '10614': [0.007],\n",
       "             '10338': [0.012],\n",
       "             '3124': [0.054],\n",
       "             '9679': [0.013],\n",
       "             '5996': [0.128],\n",
       "             '16577': [0.144],\n",
       "             '6789': [0.069],\n",
       "             '5967': [0.047],\n",
       "             '14541': [0.007],\n",
       "             '15118': [0.053],\n",
       "             '16120': [0.016],\n",
       "             '11452': [0.038],\n",
       "             '29265': [0.022],\n",
       "             '12110': [0.008],\n",
       "             '11522': [0.051],\n",
       "             '14192': [0.016],\n",
       "             '14309': [0.032],\n",
       "             '17333': [0.035],\n",
       "             '15836': [0.007],\n",
       "             '15570': [0.015],\n",
       "             '5236': [0.014],\n",
       "             '11067': [0.008],\n",
       "             '15317': [0.021],\n",
       "             '9782': [0.036],\n",
       "             '11264': [0.019],\n",
       "             '5818': [0.02],\n",
       "             '14097': [0.027],\n",
       "             '10960': [0.031],\n",
       "             '4306': [0.053],\n",
       "             '3234': [0.029],\n",
       "             '11420': [0.012],\n",
       "             '10479': [0.018],\n",
       "             '17154': [0.007],\n",
       "             '16298': [0.013],\n",
       "             '16861': [0.021],\n",
       "             '3906': [0.034],\n",
       "             '5418': [0.022],\n",
       "             '12961': [0.01],\n",
       "             '12380': [0.044],\n",
       "             '1298': [0.035],\n",
       "             '4684': [0.009],\n",
       "             '7885': [0.041],\n",
       "             '5999': [0.026],\n",
       "             '12872': [0.008],\n",
       "             '17038': [0.008],\n",
       "             '5777': [0.105],\n",
       "             '10084': [0.059],\n",
       "             '17270': [0.011],\n",
       "             '8070': [0.039],\n",
       "             '5423': [0.058],\n",
       "             '14986': [0.007],\n",
       "             '13617': [0.011],\n",
       "             '15952': [0.008],\n",
       "             '16527': [0.029],\n",
       "             '5952': [0.017],\n",
       "             '9413': [0.011],\n",
       "             '11794': [0.009],\n",
       "             '8183': [0.008],\n",
       "             '11943': [0.017],\n",
       "             '12273': [0.007],\n",
       "             '16226': [0.037],\n",
       "             '14058': [0.009],\n",
       "             '3689': [0.008],\n",
       "             '3276': [0.014],\n",
       "             '7845': [0.02],\n",
       "             '9453': [0.014],\n",
       "             '16799': [0.053],\n",
       "             '6531': [0.015],\n",
       "             '9253': [0.007],\n",
       "             '15545': [0.008],\n",
       "             '3864': [0.023],\n",
       "             '13826': [0.014],\n",
       "             '7407': [0.088],\n",
       "             '12416': [0.021],\n",
       "             '8308': [0.023],\n",
       "             '17262': [0.007],\n",
       "             '11437': [0.012],\n",
       "             '16992': [0.006],\n",
       "             '29195': [0.01],\n",
       "             '9783': [0.041],\n",
       "             '7698': [0.011],\n",
       "             '25221': [0.008],\n",
       "             '3537': [0.044],\n",
       "             '27947': [0.149],\n",
       "             '15037': [0.009],\n",
       "             '16983': [0.029],\n",
       "             '8116': [0.027],\n",
       "             '15656': [0.029],\n",
       "             '14955': [0.014],\n",
       "             '5098': [0.022],\n",
       "             '15996': [0.009],\n",
       "             '16900': [0.034],\n",
       "             '6479': [0.033],\n",
       "             '9295': [0.012],\n",
       "             '12235': [0.021],\n",
       "             '10517': [0.014],\n",
       "             '3056': [0.018],\n",
       "             '13492': [0.031],\n",
       "             '15477': [0.008],\n",
       "             '15971': [0.01],\n",
       "             '12074': [0.009],\n",
       "             '14659': [0.022],\n",
       "             '11346': [0.02],\n",
       "             '12514': [0.015],\n",
       "             '15234': [0.006],\n",
       "             '14854': [0.01],\n",
       "             '12511': [0.011],\n",
       "             '15685': [0.014],\n",
       "             '9488': [0.02],\n",
       "             '4174': [0.013],\n",
       "             '10056': [0.026],\n",
       "             '15860': [0.013],\n",
       "             '5936': [0.045],\n",
       "             '8853': [0.022],\n",
       "             '16202': [0.007],\n",
       "             '7402': [0.055],\n",
       "             '7741': [0.015],\n",
       "             '14143': [0.046],\n",
       "             '11986': [0.043],\n",
       "             '16834': [0.008],\n",
       "             '5722': [0.029],\n",
       "             '4751': [0.036],\n",
       "             '11311': [0.008],\n",
       "             '16540': [0.014],\n",
       "             '12527': [0.01],\n",
       "             '16004': [0.006],\n",
       "             '6654': [0.034],\n",
       "             '14987': [0.009],\n",
       "             '6539': [0.062],\n",
       "             '14182': [0.027],\n",
       "             '21017': [0.008],\n",
       "             '12618': [0.008],\n",
       "             '12457': [0.01],\n",
       "             '7145': [0.02],\n",
       "             '13502': [0.021],\n",
       "             '7353': [0.024],\n",
       "             '12662': [0.046],\n",
       "             '3622': [0.013],\n",
       "             '14276': [0.007],\n",
       "             '10062': [0.026],\n",
       "             '13855': [0.028],\n",
       "             '15600': [0.06],\n",
       "             '14555': [0.009],\n",
       "             '17014': [0.014],\n",
       "             '7483': [0.025],\n",
       "             '16707': [0.008],\n",
       "             '12266': [0.009],\n",
       "             '13726': [0.035],\n",
       "             '15722': [0.036],\n",
       "             '13119': [0.017],\n",
       "             '16949': [0.023],\n",
       "             '8174': [0.034],\n",
       "             '13273': [0.008],\n",
       "             '8855': [0.008],\n",
       "             '26025': [0.009],\n",
       "             '7952': [0.061],\n",
       "             '15203': [0.016],\n",
       "             '13833': [0.014],\n",
       "             '16915': [0.008],\n",
       "             '2870': [0.035],\n",
       "             '15504': [0.026],\n",
       "             '11843': [0.009],\n",
       "             '6516': [0.007],\n",
       "             '7744': [0.022],\n",
       "             '8475': [0.063],\n",
       "             '13874': [0.013],\n",
       "             '17067': [0.007],\n",
       "             '21587': [0.017],\n",
       "             '15171': [0.011],\n",
       "             '8918': [0.041],\n",
       "             '15328': [0.026],\n",
       "             '7241': [0.024],\n",
       "             '15132': [0.01],\n",
       "             '13016': [0.015],\n",
       "             '14216': [0.036],\n",
       "             '10274': [0.035],\n",
       "             '12726': [0.008],\n",
       "             '16100': [0.007],\n",
       "             '10240': [0.016],\n",
       "             '3608': [0.069],\n",
       "             '12504': [0.008],\n",
       "             '8815': [0.005],\n",
       "             '8292': [0.007],\n",
       "             '15691': [0.015],\n",
       "             '11784': [0.016],\n",
       "             '16130': [0.008],\n",
       "             '11790': [0.017],\n",
       "             '11339': [0.042],\n",
       "             '16962': [0.035],\n",
       "             '9343': [0.101],\n",
       "             '12534': [0.009],\n",
       "             '7599': [0.048],\n",
       "             '14488': [0.006],\n",
       "             '5053': [0.055],\n",
       "             '2416': [0.024],\n",
       "             '17112': [0.021],\n",
       "             '20262': [0.007],\n",
       "             '16744': [0.006],\n",
       "             '13095': [0.06],\n",
       "             '16736': [0.008],\n",
       "             '16014': [0.011],\n",
       "             '13225': [0.058],\n",
       "             '5832': [0.025],\n",
       "             '10389': [0.03],\n",
       "             '13011': [0.214],\n",
       "             '12927': [0.009],\n",
       "             '13680': [0.022],\n",
       "             '8655': [0.013],\n",
       "             '10946': [0.008],\n",
       "             '15559': [0.005],\n",
       "             '8941': [0.027],\n",
       "             '14974': [0.008],\n",
       "             '7384': [0.04],\n",
       "             '14402': [0.007],\n",
       "             '21519': [0.006],\n",
       "             '11265': [0.006],\n",
       "             '14435': [0.007],\n",
       "             '2281': [0.038],\n",
       "             '16483': [0.006],\n",
       "             '16513': [0.007],\n",
       "             '7041': [0.043],\n",
       "             '16404': [0.006],\n",
       "             '13520': [0.022],\n",
       "             '11148': [0.015]})"
      ]
     },
     "execution_count": 235,
     "metadata": {},
     "output_type": "execute_result"
    }
   ],
   "source": [
    "execute(query)"
   ]
  },
  {
   "cell_type": "code",
   "execution_count": 175,
   "metadata": {},
   "outputs": [
    {
     "name": "stdout",
     "output_type": "stream",
     "text": [
      "insert your text : disney movie\n"
     ]
    }
   ],
   "source": [
    "query = input(\"insert your text : \")\n",
    "\n",
    "query = clean(query)"
   ]
  },
  {
   "cell_type": "code",
   "execution_count": 180,
   "metadata": {},
   "outputs": [
    {
     "data": {
      "text/plain": [
       "{'95223': 0.5, '28257': 0.5}"
      ]
     },
     "execution_count": 180,
     "metadata": {},
     "output_type": "execute_result"
    }
   ],
   "source": [
    "querytf(query)"
   ]
  },
  {
   "cell_type": "code",
   "execution_count": null,
   "metadata": {},
   "outputs": [],
   "source": []
  },
  {
   "cell_type": "code",
   "execution_count": null,
   "metadata": {},
   "outputs": [],
   "source": []
  },
  {
   "cell_type": "code",
   "execution_count": null,
   "metadata": {},
   "outputs": [],
   "source": []
  },
  {
   "cell_type": "code",
   "execution_count": 469,
   "metadata": {},
   "outputs": [
    {
     "data": {
      "text/plain": [
       "{'Starring': '9',\n",
       " 'Release Year': '2007',\n",
       " 'Runtime': '122',\n",
       " 'Budget': '55000000'}"
      ]
     },
     "execution_count": 469,
     "metadata": {},
     "output_type": "execute_result"
    }
   ],
   "source": [
    "with open(path2+'article_15048.tsv', encoding = 'utf8') as fd:\n",
    "    rd = csv.reader(fd, delimiter=\"\\t\", quotechar='\"')\n",
    "    for row in rd:\n",
    "        if row :\n",
    "            tsv = row\n",
    "            \n",
    "d = {}\n",
    "\n",
    "if tsv[6] == 'NA':\n",
    "    d['Starring'] = '0'\n",
    "else:\n",
    "    d['Starring'] = str(len(tsv[6].split(',')))\n",
    "\n",
    "try:\n",
    "    d['Release Year'] = re.search(r'\\d{4}', tsv[8]).group(0)\n",
    "except:\n",
    "    d['Release Year'] = '0'\n",
    "    \n",
    "try:\n",
    "    d['Runtime']      = re.search(r'\\d+.*',tsv[9]).group(0)\n",
    "except:\n",
    "    d['Runtime']    = '0'\n",
    "\n",
    "#some movies have running time expressed in reels, and the conversion in minutes is not univoque, so we'll just ignore those info\n",
    "if re.search(r'min', d['Runtime']):\n",
    "    d['Runtime'] = re.search(r'\\d+[\\.|\\,|:]*\\d*', d['Runtime']).group(0)\n",
    "    d['Runtime'] = re.search(r'\\d+', d['Runtime']).group(0)\n",
    "else:\n",
    "    d['Runtime'] = '0'\n",
    "    \n",
    "try:\n",
    "    d['Budget']   = re.findall(r'\\$.*', tsv[12])[0]\n",
    "except:\n",
    "    d['Budget']  = '0'\n",
    "\n",
    "if re.search(r'mil', d['Budget']):\n",
    "    d['Budget']  = str(int(float(re.search(r'\\d+[\\.|\\,]*\\d*', d['Budget']).group(0))*10**6))\n",
    "elif re.search(r',', d['Budget']):\n",
    "    d['Budget'] = d['Budget'].replace(',', '').replace('$', '')\n",
    "else:\n",
    "    d['Budget'] = d['Budget'].replace('.', '').replace('$', '')\n",
    "\n",
    "d"
   ]
  },
  {
   "cell_type": "code",
   "execution_count": 159,
   "metadata": {},
   "outputs": [
    {
     "data": {
      "text/plain": [
       "'document_0'"
      ]
     },
     "execution_count": 159,
     "metadata": {},
     "output_type": "execute_result"
    }
   ],
   "source": []
  },
  {
   "cell_type": "code",
   "execution_count": 657,
   "metadata": {},
   "outputs": [],
   "source": [
    "savetojson(path+\"\\\\WORDS\\\\tfidf_index.json\", inv_ind_tfIDF)"
   ]
  },
  {
   "cell_type": "code",
   "execution_count": null,
   "metadata": {},
   "outputs": [],
   "source": []
  },
  {
   "cell_type": "code",
   "execution_count": 537,
   "metadata": {},
   "outputs": [
    {
     "data": {
      "text/plain": [
       "0.8625010781263477"
      ]
     },
     "execution_count": 537,
     "metadata": {},
     "output_type": "execute_result"
    }
   ],
   "source": [
    "q = dict()\n",
    "q['runtime'] = 150\n",
    "Runtimes = [6,12,15,57,100,132]\n",
    "minrun = min(Runtimes)\n",
    "maxrun = max(Runtimes)\n",
    "if d['Runtime'] != 0:\n",
    "    runscore = 1 - abs(int(q['runtime'])- int(d['Runtime']))/(maxrun - minrun)\n",
    "else:\n",
    "    runscore = 0\n",
    "runscore\n",
    "\n",
    "maxbud = 400000000\n",
    "minbud = 500\n",
    "q['Budget'] = \"expensive\"\n",
    "\n",
    "if q['Budget'] == 'expensive':\n",
    "    bud_score = (maxbud - int(d['Budget']))/(maxbud-minbud)\n",
    "elif q['Budget'] == 'inexpensive':\n",
    "    bud_score = (int(d['Budget']) - minbud)/(maxbud-minbud)\n",
    "    \n",
    "bud_score"
   ]
  },
  {
   "cell_type": "code",
   "execution_count": null,
   "metadata": {},
   "outputs": [],
   "source": [
    "q[]"
   ]
  },
  {
   "cell_type": "code",
   "execution_count": 2,
   "metadata": {},
   "outputs": [
    {
     "name": "stdout",
     "output_type": "stream",
     "text": [
      "Do you prefer an old movie or a new-released movie? Please type O for Old and N for New:O\n",
      "Do you want to specify the release year ?Please type Y for Yes and N for No: Y\n",
      "please specify the release date1924\n",
      "Do you want to specify the length of the movie? Please type Y for Yes and N for No:Y\n",
      "please specify the length of the movie120\n",
      "Is number of stars an important factor for you? Please type Y for Yes and N for No:Y\n",
      "Is movie budget an important factor for you? Please type Y for Yes and N for No:10\n"
     ]
    }
   ],
   "source": [
    "q = dict()\n",
    "oldnew = input(\"Do you prefer an old movie or a new-released movie? Please type O for Old and N for New:\")\n",
    "if oldnew == \"O\" :\n",
    "    q[\"release\"] = \"O\"\n",
    "if oldnew == \"N\" :\n",
    "    q[\"release\"] = \"N\"\n",
    "    \n",
    "    \n",
    "    \n",
    "year = input(\"Do you want to specify the release year ?Please type Y for Yes and N for No: \")\n",
    "if year == \"N\" :\n",
    "    q[\"year\"] = \"NA\"\n",
    "if year == \"Y\" :\n",
    "    year = input(\"please specify the release date\") \n",
    "    q[\"year\"] = year\n",
    "    \n",
    "    \n",
    "\n",
    "Runtime = input(\"Do you want to specify the length of the movie? Please type Y for Yes and N for No:\")\n",
    "if Runtime == \"N\" :\n",
    "    q[\"Runtime\"] = \"NA\"\n",
    "if Runtime == \"Y\" :\n",
    "    Runtime = input(\"please specify the length of the movie\")\n",
    "    q[\"Runtime\"] = Runtime\n",
    "    \n",
    "    \n",
    "starring = input(\"Is number of stars an important factor for you? Please type Y for Yes and N for No:\")\n",
    "q[\"starring\"] = starring\n",
    "\n",
    "\n",
    "budget = input(\"Is movie budget an important factor for you? Please type Y for Yes and N for No:\")\n",
    "q[\"budget\"] = budget\n"
   ]
  }
 ],
 "metadata": {
  "kernelspec": {
   "display_name": "Python 3",
   "language": "python",
   "name": "python3"
  },
  "language_info": {
   "codemirror_mode": {
    "name": "ipython",
    "version": 3
   },
   "file_extension": ".py",
   "mimetype": "text/x-python",
   "name": "python",
   "nbconvert_exporter": "python",
   "pygments_lexer": "ipython3",
   "version": "3.7.3"
  }
 },
 "nbformat": 4,
 "nbformat_minor": 2
}
